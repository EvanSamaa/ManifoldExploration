{
 "cells": [
  {
   "cell_type": "code",
   "execution_count": 4,
   "metadata": {},
   "outputs": [],
   "source": [
    "import torch\n",
    "import torch.utils.tensorboard as tb\n",
    "import os"
   ]
  },
  {
   "cell_type": "code",
   "execution_count": 7,
   "metadata": {},
   "outputs": [],
   "source": [
    "MODELS_DIR = \"/Users/evanpan/Documents/GitHub/ManifoldExploration/experiments/\"\n",
    "models = [\"hae\", \"lipmlp_sparse_test\"]"
   ]
  },
  {
   "cell_type": "code",
   "execution_count": 9,
   "metadata": {},
   "outputs": [
    {
     "name": "stdout",
     "output_type": "stream",
     "text": [
      "/Users/evanpan/Documents/GitHub/ManifoldExploration/experiments/hae/events.out.tfevents.1707510036.jason.732062.0\n",
      "/Users/evanpan/Documents/GitHub/ManifoldExploration/experiments/lipmlp_sparse_test/events.out.tfevents.1705215831.xenophon.3847760.0\n"
     ]
    }
   ],
   "source": [
    "# read from the tensorboard logs\n",
    "for model in models:\n",
    "    # find the logfile in the model directory\n",
    "    logdir = MODELS_DIR + model\n",
    "    # find the logfile_name by using os.listdir and finding the file that starts with events\n",
    "    logfile_name = [f for f in os.listdir(logdir) if f.startswith(\"events\")][-1]\n",
    "    # load the file\n",
    "    file = logdir + \"/\" + logfile_name\n",
    "    # read from the file\n",
    "    \n",
    "\n"
   ]
  },
  {
   "cell_type": "code",
   "execution_count": null,
   "metadata": {},
   "outputs": [],
   "source": []
  }
 ],
 "metadata": {
  "kernelspec": {
   "display_name": "mediapipe",
   "language": "python",
   "name": "python3"
  },
  "language_info": {
   "codemirror_mode": {
    "name": "ipython",
    "version": 3
   },
   "file_extension": ".py",
   "mimetype": "text/x-python",
   "name": "python",
   "nbconvert_exporter": "python",
   "pygments_lexer": "ipython3",
   "version": "3.11.5"
  }
 },
 "nbformat": 4,
 "nbformat_minor": 2
}
