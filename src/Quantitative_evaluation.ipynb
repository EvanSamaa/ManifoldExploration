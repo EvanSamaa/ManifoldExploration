{
 "cells": [
  {
   "cell_type": "code",
   "execution_count": 1,
   "metadata": {},
   "outputs": [],
   "source": [
    "from model import *\n",
    "import numpy as np\n",
    "from utils import *\n",
    "import os, sys\n",
    "from blendshapes import load_blendshape, BasicBlendshapes"
   ]
  },
  {
   "cell_type": "markdown",
   "metadata": {},
   "source": [
    "## Helper functions"
   ]
  },
  {
   "cell_type": "code",
   "execution_count": 11,
   "metadata": {},
   "outputs": [],
   "source": [
    "def manifold_projection(model, weights, blendshapes: BasicBlendshapes):\n",
    "    proj_weights = model.infer(weights)\n",
    "    if type(proj_weights) is torch.Tensor:\n",
    "        proj_weights = proj_weights.detach().numpy()\n",
    "    if len(weights.shape) == 1:\n",
    "        V_proj = blendshapes.eval(proj_weights)\n",
    "    else:\n",
    "        # save the original shape\n",
    "        original_shape = proj_weights.shape\n",
    "        # reshape to 2D\n",
    "        proj_weights = proj_weights.reshape(-1, proj_weights.shape[-1])   \n",
    "        V_proj = np.zeros((proj_weights.shape[0], blendshapes.V.shape[0], 3))\n",
    "        for i in range(proj_weights.shape[0]):\n",
    "            V_proj[i] = blendshapes.eval(proj_weights[i])\n",
    "        # reshape back to original shape, it could either be 3d or 4d\n",
    "        try:\n",
    "            V_proj = V_proj.reshape(original_shape[0], -1, 3)\n",
    "        except:\n",
    "            V_proj = V_proj.reshape(original_shape[0], original_shape[1], -1, 3)\n",
    "        proj_weights = proj_weights.reshape(original_shape)\n",
    "        return proj_weights, V_proj\n"
   ]
  },
  {
   "cell_type": "markdown",
   "metadata": {},
   "source": [
    "## Naive Baselines"
   ]
  },
  {
   "cell_type": "code",
   "execution_count": 12,
   "metadata": {},
   "outputs": [],
   "source": [
    "from regex import W\n",
    "\n",
    "\n",
    "class NaiveLocal:\n",
    "    def __init__(self, dim):\n",
    "        self.weight = np.zeros(dim)\n",
    "    def infer(self, x):\n",
    "        return x\n",
    "    \n",
    "class Closest_K_Infer:\n",
    "    def __init__(self, model, k=5):\n",
    "        self.model = model\n",
    "        self.k = k\n",
    "    def infer(self, x):\n",
    "        raw_output = self.model.infer(x)\n",
    "        raw_output = raw_output.detach().numpy()\n",
    "        x = x.detach().numpy()\n",
    "        delta = raw_output - x\n",
    "        # top k mask\n",
    "        for i in range(x.shape[0]):\n",
    "            mask = np.ones(len(raw_output[i]))\n",
    "            mask[np.argsort(raw_output[i])[-self.k:]] = 0\n",
    "            raw_output[i] = mask * delta[i] + x[i]\n",
    "        return raw_output"
   ]
  },
  {
   "cell_type": "markdown",
   "metadata": {},
   "source": [
    "## Inputs"
   ]
  },
  {
   "cell_type": "code",
   "execution_count": 13,
   "metadata": {},
   "outputs": [],
   "source": [
    "# input paths\n",
    "EXPERIMENT_PATH = \"../experiments\"\n",
    "PROJ_ROOT = \"../\"\n",
    "\n",
    "# models to compare\n",
    "experiment_names = [\"lipmlp\"]\n",
    "# experiment_names = os.listdir(EXPERIMENT_PATH)\n",
    "\n",
    "################## For evaluating denoising performance ##################\n",
    "# numbers of random frames to sample from the dataset\n",
    "n_frames = 1000\n",
    "# levels of noise\n",
    "noise_levels = np.arange(0, 1, 0.1)\n",
    "\n",
    "# other paths\n",
    "BLENDSHAPES_PATH = os.path.join(PROJ_ROOT, \"data\", \"AppleAR\", \"OBJs\")\n",
    "BLENDSHAPES_PATH = os.path.join(PROJ_ROOT, \"data\", \"SP\", \"OBJs\")"
   ]
  },
  {
   "cell_type": "markdown",
   "metadata": {},
   "source": [
    "## Step 1: Evaluate model on de-noising reconstruction"
   ]
  },
  {
   "cell_type": "markdown",
   "metadata": {},
   "source": [
    "### load models"
   ]
  },
  {
   "cell_type": "code",
   "execution_count": 14,
   "metadata": {},
   "outputs": [
    {
     "name": "stdout",
     "output_type": "stream",
     "text": [
      "/Users/evanpan/Documents/GitHub/ManifoldExploration/experiments/lipmlp/model.pt\n"
     ]
    }
   ],
   "source": [
    "\n",
    "models_dict = {}\n",
    "for ii in range(len(experiment_names)):\n",
    "    if experiment_names[ii][0] == \".\":\n",
    "        continue\n",
    "    experiment_folder_path = os.path.join(EXPERIMENT_PATH, experiment_names[ii])\n",
    "    config_path = os.path.join(experiment_folder_path, \"config.json\")\n",
    "    config = json.load(open(config_path))\n",
    "    \n",
    "    # get type fo model\n",
    "    try:\n",
    "        model_type = config[\"network\"][\"type\"]\n",
    "        \n",
    "    except:\n",
    "        continue\n",
    "    \n",
    "    # load model\n",
    "    try:\n",
    "        model = load_model(config)\n",
    "        models_dict[model_type] = model\n",
    "        models_dict[model_type + \"_ver_K\"] = Closest_K_Infer(model)\n",
    "    except:\n",
    "        print(\"failed at {}\".format(model_type))\n",
    "        continue\n",
    "models_dict[\"nothing\"] = NaiveLocal(50)"
   ]
  },
  {
   "cell_type": "markdown",
   "metadata": {},
   "source": [
    "### Load data and blendshapes"
   ]
  },
  {
   "cell_type": "code",
   "execution_count": 15,
   "metadata": {},
   "outputs": [
    {
     "name": "stdout",
     "output_type": "stream",
     "text": [
      "SP dataset size: 4225\n"
     ]
    }
   ],
   "source": [
    "blendshapes = load_blendshape(\"SP\")\n",
    "dataset = load_dataset(dataset=\"SP\")\n",
    "weights_gt = random_sample(dataset, n_frames)"
   ]
  },
  {
   "cell_type": "markdown",
   "metadata": {},
   "source": [
    "### Metric 1 - reconstruction accuracy - evaluate the denoising capability of different models"
   ]
  },
  {
   "cell_type": "code",
   "execution_count": 16,
   "metadata": {},
   "outputs": [],
   "source": [
    "from os import error\n",
    "from librosa import ex\n",
    "from numpy import dtype\n",
    "from torch import mode\n",
    "\n",
    "\n",
    "n_trials = 20\n",
    "# noise levels\n",
    "sv_samples = np.linspace(0, 1, n_trials)\n",
    "\n",
    "# store error\n",
    "noise_level_dict = {}\n",
    "# store the error with respect to the ground truth\n",
    "error_dict = {}\n",
    "\n",
    "for model_name in models_dict:\n",
    "    model = models_dict[model_name]\n",
    "    for i in range(n_trials):\n",
    "        sv = sv_samples[i] # different noise levels\n",
    "        weights = weights_gt + np.random.normal(loc=0, scale=sv, size=weights_gt.shape)\n",
    "        weights = np.clip(weights, 0, 1)\n",
    "        weights = torch.from_numpy(weights).type(torch.FloatTensor)\n",
    "        # weights and vertex positions\n",
    "        proj_weights_dm, V_proj_dm = manifold_projection(model, weights, blendshapes)\n",
    "        try:\n",
    "            noise_level_dict[model_name].append(np.linalg.norm(weights - weights_gt))\n",
    "            error_dict[model_name].append(np.linalg.norm(proj_weights_dm - weights_gt))\n",
    "        except:\n",
    "            noise_level_dict[model_name] = [np.linalg.norm(weights - weights_gt)]\n",
    "            error_dict[model_name] = [np.linalg.norm(proj_weights_dm - weights_gt)]"
   ]
  },
  {
   "cell_type": "code",
   "execution_count": 18,
   "metadata": {},
   "outputs": [
    {
     "data": {
      "image/png": "[encoded data removed]",
      "text/plain": [
       "<Figure size 640x480 with 1 Axes>"
      ]
     },
     "metadata": {},
     "output_type": "display_data"
    }
   ],
   "source": [
    "# plot the results\n",
    "import matplotlib.pyplot as plt\n",
    "# plt.figure()\n",
    "for model_name in models_dict:\n",
    "    plt.plot(error_dict[model_name], label=model_name + \" error\")\n",
    "# plt.plot(noise_level_dict[\"naive\"], label=\"noise level\")\n",
    "plt.legend()\n",
    "plt.show()"
   ]
  },
  {
   "cell_type": "markdown",
   "metadata": {},
   "source": [
    "### Metric 2 - Slider responsiveness - Locality"
   ]
  },
  {
   "cell_type": "code",
   "execution_count": null,
   "metadata": {},
   "outputs": [],
   "source": [
    "def compute_locality_error(original_weight, modified_weight, projected_modified_weight, blendshapes):\n",
    "    return np.linalg.norm(blendshapes.eval(original_weight) - blendshapes.eval(projected_modified_weight))"
   ]
  },
  {
   "cell_type": "code",
   "execution_count": 21,
   "metadata": {},
   "outputs": [
    {
     "ename": "TypeError",
     "evalue": "cannot unpack non-iterable NoneType object",
     "output_type": "error",
     "traceback": [
      "\u001b[0;31m---------------------------------------------------------------------------\u001b[0m",
      "\u001b[0;31mTypeError\u001b[0m                                 Traceback (most recent call last)",
      "Cell \u001b[0;32mIn[21], line 31\u001b[0m\n\u001b[1;32m     29\u001b[0m \u001b[38;5;28;01mfor\u001b[39;00m i \u001b[38;5;129;01min\u001b[39;00m \u001b[38;5;28mrange\u001b[39m(n_trials):\n\u001b[1;32m     30\u001b[0m     \u001b[38;5;28;01mfor\u001b[39;00m j \u001b[38;5;129;01min\u001b[39;00m \u001b[38;5;28mrange\u001b[39m(weights\u001b[38;5;241m.\u001b[39mshape[\u001b[38;5;241m1\u001b[39m]):\n\u001b[0;32m---> 31\u001b[0m         proj_weights_dm, V_proj_dm \u001b[38;5;241m=\u001b[39m manifold_projection(model, torch\u001b[38;5;241m.\u001b[39mfrom_numpy(modified_weights[i, j])\u001b[38;5;241m.\u001b[39mtype(torch\u001b[38;5;241m.\u001b[39mFloatTensor), blendshapes)\n\u001b[1;32m     32\u001b[0m         locality_error \u001b[38;5;241m=\u001b[39m compute_locality_error(weights_gt[i, j], modified_weights[i, j], proj_weights_dm, blendshapes)\n\u001b[1;32m     34\u001b[0m         \u001b[38;5;28;01mtry\u001b[39;00m:\n",
      "\u001b[0;31mTypeError\u001b[0m: cannot unpack non-iterable NoneType object"
     ]
    }
   ],
   "source": [
    "# make 100 changes per face from the dataset\n",
    "n_trials = 100\n",
    "# change a single variable and see if it can be \n",
    "locality_error = {}\n",
    "for model_name in models_dict:\n",
    "    model = models_dict[model_name]\n",
    "    weights = weights_gt.copy()\n",
    "    # add a new dimension\n",
    "    weights = np.expand_dims(weights, axis=0)\n",
    "    weights = np.repeat(weights, n_trials, axis=0)\n",
    "    \n",
    "    # generate n_trials where a single weight parameter is changed\n",
    "    changed_mask = np.zeros(weights.shape, dtype=bool)\n",
    "    # choose the weight index to change\n",
    "    for i in range(n_trials): # per trial\n",
    "        for j in range(0, weights.shape[1]): # per frame in dataset\n",
    "            index = np.random.randint(0, weights.shape[2])\n",
    "            changed_mask[i, j, index] = 1 \n",
    "            \n",
    "    # determine how much to change the weight by, sampling from normal distribution\n",
    "    weight_delta = np.random.normal(loc=0, scale=0.5, size=[weights.shape[0] * weights.shape[1]])\n",
    "    # make sure abs(weight_delta) > 0.1 so it's kind of significant\n",
    "    weight_delta = np.sign(weight_delta) * np.maximum(np.abs(weight_delta), 0.1)\n",
    "    modified_weights = weights.copy()\n",
    "    modified_weights[changed_mask] += weight_delta\n",
    "    modified_weights = np.clip(modified_weights, 0, 1)\n",
    "    \n",
    "    # iterate through the trials/frames to compute the error\n",
    "    for i in range(n_trials):\n",
    "        for j in range(weights.shape[1]):\n",
    "            print(modified_weights.shape())\n",
    "            proj_weights_dm, V_proj_dm = manifold_projection(model, torch.from_numpy(modified_weights[i, j]).type(torch.FloatTensor), blendshapes)\n",
    "            locality_error = compute_locality_error(weights_gt[i, j], modified_weights[i, j], proj_weights_dm, blendshapes)\n",
    "\n",
    "            try:\n",
    "                locality_error[model_name].append(locality_error)\n",
    "            except:\n",
    "                locality_error[model_name] = [locality_error]\n",
    "            A[2090293]"
   ]
  },
  {
   "cell_type": "code",
   "execution_count": null,
   "metadata": {},
   "outputs": [],
   "source": []
  },
  {
   "cell_type": "code",
   "execution_count": null,
   "metadata": {},
   "outputs": [],
   "source": []
  },
  {
   "cell_type": "code",
   "execution_count": null,
   "metadata": {},
   "outputs": [],
   "source": []
  },
  {
   "cell_type": "code",
   "execution_count": null,
   "metadata": {},
   "outputs": [],
   "source": []
  }
 ],
 "metadata": {
  "kernelspec": {
   "display_name": "pae",
   "language": "python",
   "name": "python3"
  },
  "language_info": {
   "codemirror_mode": {
    "name": "ipython",
    "version": 3
   },
   "file_extension": ".py",
   "mimetype": "text/x-python",
   "name": "python",
   "nbconvert_exporter": "python",
   "pygments_lexer": "ipython3",
   "version": "3.11.5"
  }
 },
 "nbformat": 4,
 "nbformat_minor": 2
}
