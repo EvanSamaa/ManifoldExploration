{
 "cells": [
  {
   "cell_type": "code",
   "execution_count": null,
   "metadata": {},
   "outputs": [],
   "source": [
    "import os\n",
    "from blendshapes import *\n",
    "\n",
    "# load the blendshape model\n",
    "PROJ_ROOT = \"/home/zhecheng/Workspace/ManifoldExploration\"\n",
    "BLENDSHAPES_PATH = os.path.join(PROJ_ROOT, \"data\", \"AppleAR\", \"OBJs\")\n",
    "model = load_blendshape(BLENDSHAPES_PATH)"
   ]
  },
  {
   "cell_type": "code",
   "execution_count": null,
   "metadata": {},
   "outputs": [],
   "source": [
    "from clustering import *\n",
    "clusters, symmetric_blendshapes = cluster_blendshapes(model, cluster_threshold=0.05, activate_threshold=0.2)\n",
    "print(f\"Number of clusters: {len(clusters)}\")\n",
    "print(clusters)"
   ]
  },
  {
   "cell_type": "code",
   "execution_count": null,
   "metadata": {},
   "outputs": [],
   "source": [
    "from submanifold import *\n",
    "RESULTS_PATH = os.path.join(PROJ_ROOT, \"experiments\")\n",
    "submanifold_projection(model, clusters, RESULTS_PATH)"
   ]
  },
  {
   "cell_type": "code",
   "execution_count": null,
   "metadata": {},
   "outputs": [],
   "source": [
    "from inference import *\n",
    "import matplotlib.pyplot as plt\n",
    "\n",
    "N_CLUSTERS = len(clusters)\n",
    "for c in range(N_CLUSTERS):\n",
    "    NB = len(clusters)\n",
    "    for i in range(NB):\n",
    "        id0 = clusters[c][i]\n",
    "        for j in range(i+1, NB):\n",
    "            id1 = clusters[c][j]\n",
    "            # load submanifold metric\n",
    "            MODEL_PATH = f\"c{c}_{id0}_{id1}.pt\"\n",
    "            MODEL_PATH = os.path.join(PROJ_PATH, \"src\", MODEL_PATH)\n",
    "            if not os.path.exists(MODEL_PATH):\n",
    "                continue\n",
    "            model = load_model(MODEL_PATH)\n",
    "            coords = sample_cspace(N)\n",
    "            # inference\n",
    "            pred, pred_grad = infer(model, coords, return_grad=True)\n",
    "            coords = coords[:, ::SAMPLE_RATE, ::SAMPLE_RATE]\n",
    "            pred_grad = pred_grad[::SAMPLE_RATE, ::SAMPLE_RATE, :]\n",
    "            plt.pcolormesh(X, Y, pred)\n",
    "            plt.quiver(coords[0], coords[1], pred_grad[...,0], pred_grad[...,1])\n",
    "            print()\n",
    "            plt.show()"
   ]
  }
 ],
 "metadata": {
  "kernelspec": {
   "display_name": "manifold_exploration",
   "language": "python",
   "name": "python3"
  },
  "language_info": {
   "codemirror_mode": {
    "name": "ipython",
    "version": 3
   },
   "file_extension": ".py",
   "mimetype": "text/x-python",
   "name": "python",
   "nbconvert_exporter": "python",
   "pygments_lexer": "ipython3",
   "version": "3.10.13"
  }
 },
 "nbformat": 4,
 "nbformat_minor": 2
}
