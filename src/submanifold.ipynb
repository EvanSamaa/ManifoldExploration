{
 "cells": [
  {
   "cell_type": "code",
   "execution_count": 1,
   "metadata": {},
   "outputs": [
    {
     "name": "stdout",
     "output_type": "stream",
     "text": [
      "0 eyeLookDownRight .gltf\n",
      "0 eyeLookInRight .gltf\n",
      "0 mouthStretchRight .obj\n",
      "1 mouthDimpleLeft .gltf\n",
      "1 browInnerUp .gltf\n",
      "1 mouthUpperUpRight .gltf\n",
      "1 mouthStretchLeft .gltf\n",
      "1 mouthDimpleRight .gltf\n",
      "1 mouthLowerDownRight .gltf\n",
      "1 jawLeft .gltf\n",
      "1 mouthFrownRight .obj\n",
      "2 eyeLookInLeft .obj\n",
      "3 eyeBlinkRight .obj\n",
      "4 browOuterUpRight .gltf\n",
      "4 jawRight .gltf\n",
      "4 mouthFrownLeft .obj\n",
      "5 mouthRight .obj\n",
      "6 cheekSquintLeft .obj\n",
      "7 eyeSquintLeft .obj\n",
      "8 mouthFrownRight .gltf\n",
      "8 eyeBlinkLeft .gltf\n",
      "8 eyeLookOutRight .obj\n",
      "9 eyeLookUpRight .gltf\n",
      "9 eyeLookOutLeft .gltf\n",
      "9 mouthUpperUpLeft .gltf\n",
      "9 mouthPressRight .obj\n",
      "10 browOuterUpLeft .obj\n",
      "11 mouthFrownLeft .gltf\n",
      "11 mouthUpperUpRight .obj\n",
      "12 mouthShrugLower .gltf\n",
      "12 mouthPressLeft .obj\n",
      "13 noseSneerLeft .obj\n",
      "14 mouthShrugUpper .obj\n",
      "15 mouthPucker .gltf\n",
      "15 mouthLowerDownRight .obj\n",
      "16 eyeWideLeft .obj\n",
      "17 cheekSquintRight .obj\n",
      "18 eyeLookOutRight .gltf\n",
      "18 eyeWideLeft .gltf\n",
      "18 mouthClose .obj\n",
      "19 mouthLowerDownLeft .obj\n",
      "20 eyeBlinkRight .gltf\n",
      "20 browOuterUpRight .obj\n",
      "21 cheekSquintLeft .gltf\n",
      "21 jawLeft .obj\n",
      "22 mouthSmileLeft .gltf\n",
      "22 mouthPressLeft .gltf\n",
      "22 mouthPucker .obj\n",
      "23 mouthLowerDownLeft .gltf\n",
      "23 eyeBlinkLeft .obj\n",
      "24 eyeLookUpLeft .gltf\n",
      "24 eyeLookDownRight .obj\n",
      "25 eyeLookDownLeft .obj\n",
      "26 Neutral .obj\n",
      "26 Neutral .gltf\n",
      "26 mouthRollUpper .gltf\n",
      "26 jawOpen .gltf\n",
      "26 eyeWideRight .obj\n",
      "27 eyeLookOutLeft .obj\n",
      "28 mouthStretchLeft .obj\n",
      "29 browDownRight .obj\n",
      "30 browDownRight .gltf\n",
      "30 browDownLeft .obj\n",
      "31 cheekPuff .gltf\n",
      "31 mouthDimpleRight .obj\n",
      "32 mouthPressRight .gltf\n",
      "32 eyeSquintLeft .gltf\n",
      "32 eyeLookInLeft .gltf\n",
      "32 mouthFunnel .obj\n",
      "33 mouthLeft .obj\n",
      "34 eyeWideRight .gltf\n",
      "34 mouthShrugUpper .gltf\n",
      "34 browInnerUp .obj\n",
      "35 mouthSmileRight .obj\n",
      "36 jawForward .obj\n",
      "37 noseSneerRight .obj\n",
      "38 mouthRight .gltf\n",
      "38 noseSneerRight .gltf\n",
      "38 browDownLeft .gltf\n",
      "38 cheekPuff .obj\n",
      "39 eyeSquintRight .gltf\n",
      "39 mouthSmileLeft .obj\n",
      "40 mouthSmileRight .gltf\n",
      "40 eyeLookInRight .obj\n",
      "41 mouthFunnel .gltf\n",
      "41 jawOpen .obj\n",
      "42 mouthRollLower .obj\n",
      "43 mouthRollLower .gltf\n",
      "43 eyeLookUpLeft .obj\n",
      "44 noseSneerLeft .gltf\n",
      "44 mouthShrugLower .obj\n",
      "45 mouthRollUpper .obj\n",
      "46 mouthStretchRight .gltf\n",
      "46 mouthClose .gltf\n",
      "46 mouthLeft .gltf\n",
      "46 jawRight .obj\n",
      "47 eyeLookDownLeft .gltf\n",
      "47 cheekSquintRight .gltf\n",
      "47 mouthUpperUpLeft .obj\n",
      "48 eyeSquintRight .obj\n",
      "49 browOuterUpLeft .gltf\n",
      "49 eyeLookUpRight .obj\n",
      "50 jawForward .gltf\n",
      "50 mouthDimpleLeft .obj\n",
      "Found 51 blendshapes.\n"
     ]
    },
    {
     "name": "stderr",
     "output_type": "stream",
     "text": [
      "Warning: readOBJ() ignored non-comment line 1:\n",
      "  o Neutral\n",
      "Warning: readOBJ() ignored non-comment line 1:\n",
      "  o mouthStretchRight\n",
      "Warning: readOBJ() ignored non-comment line 1:\n",
      "  o mouthFrownRight\n",
      "Warning: readOBJ() ignored non-comment line 1:\n",
      "  o eyeLookInLeft\n",
      "Warning: readOBJ() ignored non-comment line 1:\n",
      "  o eyeBlinkRight\n",
      "Warning: readOBJ() ignored non-comment line 1:\n",
      "  o mouthFrownLeft\n",
      "Warning: readOBJ() ignored non-comment line 1:\n",
      "  o mouthRight\n",
      "Warning: readOBJ() ignored non-comment line 1:\n",
      "  o cheekSquintLeft\n",
      "Warning: readOBJ() ignored non-comment line 1:\n",
      "  o eyeSquintLeft\n",
      "Warning: readOBJ() ignored non-comment line 1:\n",
      "  o eyeLookOutRight\n",
      "Warning: readOBJ() ignored non-comment line 1:\n",
      "  o mouthPressRight\n",
      "Warning: readOBJ() ignored non-comment line 1:\n",
      "  o browOuterUpLeft\n",
      "Warning: readOBJ() ignored non-comment line 1:\n",
      "  o mouthUpperUpRight\n",
      "Warning: readOBJ() ignored non-comment line 1:\n",
      "  o mouthPressLeft\n",
      "Warning: readOBJ() ignored non-comment line 1:\n",
      "  o noseSneerLeft\n",
      "Warning: readOBJ() ignored non-comment line 1:\n",
      "  o mouthShrugUpper\n",
      "Warning: readOBJ() ignored non-comment line 1:\n",
      "  o mouthLowerDownRight\n",
      "Warning: readOBJ() ignored non-comment line 1:\n",
      "  o eyeWideLeft\n",
      "Warning: readOBJ() ignored non-comment line 1:\n",
      "  o cheekSquintRight\n",
      "Warning: readOBJ() ignored non-comment line 1:\n",
      "  o mouthClose\n",
      "Warning: readOBJ() ignored non-comment line 1:\n",
      "  o mouthLowerDownLeft\n",
      "Warning: readOBJ() ignored non-comment line 1:\n",
      "  o browOuterUpRight\n",
      "Warning: readOBJ() ignored non-comment line 1:\n",
      "  o jawLeft\n",
      "Warning: readOBJ() ignored non-comment line 1:\n",
      "  o mouthPucker\n",
      "Warning: readOBJ() ignored non-comment line 1:\n",
      "  o eyeBlinkLeft\n",
      "Warning: readOBJ() ignored non-comment line 1:\n",
      "  o eyeLookDownRight\n",
      "Warning: readOBJ() ignored non-comment line 1:\n",
      "  o eyeLookDownLeft\n",
      "Warning: readOBJ() ignored non-comment line 1:\n",
      "  o eyeWideRight\n",
      "Warning: readOBJ() ignored non-comment line 1:\n",
      "  o eyeLookOutLeft\n",
      "Warning: readOBJ() ignored non-comment line 1:\n",
      "  o mouthStretchLeft\n",
      "Warning: readOBJ() ignored non-comment line 1:\n",
      "  o browDownRight\n",
      "Warning: readOBJ() ignored non-comment line 1:\n",
      "  o browDownLeft\n",
      "Warning: readOBJ() ignored non-comment line 1:\n",
      "  o mouthDimpleRight\n",
      "Warning: readOBJ() ignored non-comment line 1:\n",
      "  o mouthFunnel\n",
      "Warning: readOBJ() ignored non-comment line 1:\n",
      "  o mouthLeft\n",
      "Warning: readOBJ() ignored non-comment line 1:\n",
      "  o browInnerUp\n",
      "Warning: readOBJ() ignored non-comment line 1:\n",
      "  o mouthSmileRight\n",
      "Warning: readOBJ() ignored non-comment line 1:\n",
      "  o jawForward\n",
      "Warning: readOBJ() ignored non-comment line 1:\n",
      "  o noseSneerRight\n",
      "Warning: readOBJ() ignored non-comment line 1:\n",
      "  o cheekPuff\n",
      "Warning: readOBJ() ignored non-comment line 1:\n",
      "  o mouthSmileLeft\n",
      "Warning: readOBJ() ignored non-comment line 1:\n",
      "  o eyeLookInRight\n",
      "Warning: readOBJ() ignored non-comment line 1:\n",
      "  o jawOpen\n",
      "Warning: readOBJ() ignored non-comment line 1:\n",
      "  o mouthRollLower\n",
      "Warning: readOBJ() ignored non-comment line 1:\n",
      "  o eyeLookUpLeft\n",
      "Warning: readOBJ() ignored non-comment line 1:\n",
      "  o mouthShrugLower\n",
      "Warning: readOBJ() ignored non-comment line 1:\n",
      "  o mouthRollUpper\n",
      "Warning: readOBJ() ignored non-comment line 1:\n",
      "  o jawRight\n",
      "Warning: readOBJ() ignored non-comment line 1:\n",
      "  o mouthUpperUpLeft\n",
      "Warning: readOBJ() ignored non-comment line 1:\n",
      "  o eyeSquintRight\n",
      "Warning: readOBJ() ignored non-comment line 1:\n",
      "  o eyeLookUpRight\n",
      "Warning: readOBJ() ignored non-comment line 1:\n",
      "  o mouthDimpleLeft\n"
     ]
    }
   ],
   "source": [
    "import os\n",
    "from blendshapes import *\n",
    "\n",
    "# load the blendshape model\n",
    "PROJ_PATH = \"/home/zhecheng/Workspace/ManifoldExploration\"\n",
    "BLENDSHAPES_PATH = os.path.join(os.pardir, \"data\", \"Apple blendshapes51 OBJs\", \"OBJs\")\n",
    "model = load_blendshape_model(BLENDSHAPES_PATH)"
   ]
  },
  {
   "cell_type": "code",
   "execution_count": 2,
   "metadata": {},
   "outputs": [
    {
     "name": "stdout",
     "output_type": "stream",
     "text": [
      "Number of clusters:  5\n",
      "[[32, 38, 22, 33, 5, 46, 21, 41, 36, 9, 12, 18, 44, 42, 19, 15], [28, 50, 39, 4, 47, 14, 45, 13], [27, 23, 25, 2, 16, 43, 30], [17, 48], [34, 20]]\n"
     ]
    }
   ],
   "source": [
    "from clustering import *\n",
    "clusters, symmetric_blendshapes = cluster_blendshapes(model, cluster_threshold=0.05, activate_threshold=0.2)\n",
    "print(\"Number of clusters: \", len(clusters))\n",
    "print(clusters)"
   ]
  },
  {
   "cell_type": "code",
   "execution_count": 3,
   "metadata": {},
   "outputs": [
    {
     "name": "stdout",
     "output_type": "stream",
     "text": [
      "Computing C-space metric for cluster 0, blendshapes 17 and 48.\n"
     ]
    },
    {
     "name": "stderr",
     "output_type": "stream",
     "text": [
      "loss: 0.0000: 100%|██████████| 10000/10000 [01:06<00:00, 149.87it/s]\n"
     ]
    },
    {
     "name": "stdout",
     "output_type": "stream",
     "text": [
      "Computing C-space metric for cluster 1, blendshapes 34 and 20.\n"
     ]
    },
    {
     "name": "stderr",
     "output_type": "stream",
     "text": [
      "loss: 0.0003: 100%|██████████| 10000/10000 [01:04<00:00, 154.33it/s]\n"
     ]
    },
    {
     "data": {
      "text/plain": [
       "<Figure size 640x480 with 0 Axes>"
      ]
     },
     "metadata": {},
     "output_type": "display_data"
    },
    {
     "data": {
      "image/png": "[encoded data removed]",
      "text/plain": [
       "<Figure size 640x480 with 2 Axes>"
      ]
     },
     "metadata": {},
     "output_type": "display_data"
    },
    {
     "data": {
      "text/plain": [
       "<Figure size 640x480 with 0 Axes>"
      ]
     },
     "metadata": {},
     "output_type": "display_data"
    },
    {
     "data": {
      "image/png": "[encoded data removed]",
      "text/plain": [
       "<Figure size 640x480 with 2 Axes>"
      ]
     },
     "metadata": {},
     "output_type": "display_data"
    }
   ],
   "source": [
    "from submanifold_metrics import *\n",
    "clusters = clusters[-2:]\n",
    "submanifold_metric(model, clusters, N=50)"
   ]
  },
  {
   "cell_type": "code",
   "execution_count": 4,
   "metadata": {},
   "outputs": [],
   "source": [
    "# from inference import *\n",
    "# import seaborn as sns\n",
    "# import matplotlib.pyplot as plt\n",
    "\n",
    "# N = 100\n",
    "\n",
    "# N_CLUSTERS = len(clusters)\n",
    "# for c in range(N_CLUSTERS):\n",
    "#     NB = len(clusters)\n",
    "#     for i in range(NB):\n",
    "#         id0 = clusters[c][i]\n",
    "#         for j in range(i+1, NB):\n",
    "#             id1 = clusters[c][j]\n",
    "#             # load submanifold metric\n",
    "#             MODEL_PATH = f\"c{c}_{id0}_{id1}.pt\"\n",
    "#             MODEL_PATH = os.path.join(PROJ_PATH, \"src\", MODEL_PATH)\n",
    "#             if not os.path.exists(MODEL_PATH):\n",
    "#                 continue\n",
    "#             model = load_model(MODEL_PATH)\n",
    "#             model.eval()\n",
    "#             coords = sample_cspace(N)\n",
    "#             # inference\n",
    "#             labels = infer(model, coords)\n",
    "#             sns.heatmap(labels.reshape(N, N), cmap=\"tab20b\")\n",
    "#             plt.show()"
   ]
  }
 ],
 "metadata": {
  "kernelspec": {
   "display_name": "manifold_exploration",
   "language": "python",
   "name": "python3"
  },
  "language_info": {
   "codemirror_mode": {
    "name": "ipython",
    "version": 3
   },
   "file_extension": ".py",
   "mimetype": "text/x-python",
   "name": "python",
   "nbconvert_exporter": "python",
   "pygments_lexer": "ipython3",
   "version": "3.11.5"
  }
 },
 "nbformat": 4,
 "nbformat_minor": 2
}
